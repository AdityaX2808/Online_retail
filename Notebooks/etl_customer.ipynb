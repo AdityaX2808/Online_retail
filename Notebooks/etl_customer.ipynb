{
 "cells": [
  {
   "cell_type": "code",
   "execution_count": 2,
   "id": "c3e3bf0f",
   "metadata": {},
   "outputs": [],
   "source": [
    "from pyspark.sql import SparkSession\n",
    "from pyspark.sql.functions import col , current_timestamp , lit\n",
    "from pyspark.sql.types import StringType"
   ]
  },
  {
   "cell_type": "code",
   "execution_count": null,
   "id": "cf024b28",
   "metadata": {},
   "outputs": [],
   "source": [
    "spark = SparkSession.builder.appName(\"ETL Customer\").config(\"spark.jars\" , r\"JARFILELOCATION\").getOrCreate()\n",
    "\n",
    "jdbc_url = \"jdbc:postgresql://localhost:5432/RETAIL_DB\"\n",
    "conn_props = {\"user\" : \"UZR\" , \"password\" : \"PASSOWD\" , \"driver\" : \"org.postgresql.Driver\"}\n",
    "\n",
    "#extract distinct customers from raw source\n",
    "raw_cutomers = spark.read.jdbc(url = jdbc_url , table = 'wh_source.online_retail_raw' , column = 'customerid' , lowerBound = 1 , upperBound = 10 , numPartitions=10 , properties = conn_props).select(col(\"customerid\") , col(\"country\")).filter(col(\"customerid\").isNotNull()).distinct()\n",
    "\n"
   ]
  },
  {
   "cell_type": "code",
   "execution_count": null,
   "id": "2016b4b8",
   "metadata": {},
   "outputs": [],
   "source": [
    "#add etl timestamp\n",
    "customer_stage = raw_cutomers.withColumnRenamed(\"customerid\" , \"customer_id\").withColumn(\"etl_insert_ts\", current_timestamp()).withColumn(\"etl_update_ts\", current_timestamp())\n"
   ]
  },
  {
   "cell_type": "code",
   "execution_count": null,
   "id": "0b044a56",
   "metadata": {},
   "outputs": [],
   "source": [
    "#load existing stage table\n",
    "try:\n",
    "    stage_customers   =  spark.read.jdbc(jdbc_url, \"wh_stage.stg_customer\" , properties = conn_props)\n",
    "except Exception:\n",
    "    stage_customers = None\n",
    "\n",
    "if stage_customers:\n",
    "    new_customers  = customer_stage.join(stage_customers.select(\"customer_id\") , \"customer_id\" , \"left_anti\")\n",
    "    if new_customers.count() > 0:\n",
    "        new_customers.write.jdbc(jdbc_url , \"wh_stage.stg_customer\" , mode = \"append\" , properties = conn_props)\n",
    "else:\n",
    "    customer_stage.write.jdbc(jdbc_url , \"wh_stage.stg_customer\" , mode = \"overwrite\" , properties = conn_props)\n",
    "\n"
   ]
  },
  {
   "cell_type": "code",
   "execution_count": null,
   "id": "87d0644f",
   "metadata": {},
   "outputs": [],
   "source": [
    "#load existing dimesion\n",
    "try:\n",
    "    dim_customers = spark.read.jdbc(jdbc_url , \"wh_core.dim_customer\" , properties = conn_props)\n",
    "except Exception:\n",
    "    dim_customers = None\n",
    "\n",
    "\n",
    "if dim_customers:\n",
    "    new_dim_customers = customer_stage.join(dim_customers , \"customer_id\" , \"left_anti\").withColumn(\"start_date\"  , current_timestamp()).withColumn(\"end_date\" , lit(None).cast(\"timestamp\")).withColumn(\"current_flag\"  ,lit(True))\n",
    "\n",
    "    if new_dim_customers.count() > 0:\n",
    "        new_dim_customers.write.jdbc(jdbc_url , \"wh_core.dim_customer\" , mode = \"append\" , properties = conn_props)\n",
    "else:\n",
    "    customer_stage.withColumn(\"start_date\" , current_timestamp()).withColumn(\"end_date\" , lit(None).cast(\"timestamp\")).withColumn(\"current_flag\", lit(True)).write.jdbc(jdbc_url , \"wh_core.dim_customer\" ,  mode = \"overwrite\" , properties = conn_props)\n",
    "\n",
    "\n",
    "spark.stop()"
   ]
  }
 ],
 "metadata": {
  "kernelspec": {
   "display_name": "Python 3",
   "language": "python",
   "name": "python3"
  },
  "language_info": {
   "codemirror_mode": {
    "name": "ipython",
    "version": 3
   },
   "file_extension": ".py",
   "mimetype": "text/x-python",
   "name": "python",
   "nbconvert_exporter": "python",
   "pygments_lexer": "ipython3",
   "version": "3.11.1"
  }
 },
 "nbformat": 4,
 "nbformat_minor": 5
}
